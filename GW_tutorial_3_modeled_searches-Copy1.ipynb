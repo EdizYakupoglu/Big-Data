{
 "cells": [
  {
   "cell_type": "markdown",
   "metadata": {
    "id": "Oe9SQUuVgkEy",
    "tags": []
   },
   "source": [
    "### GW tutorial 3: Generation of data and matched filtering"
   ]
  },
  {
   "cell_type": "markdown",
   "metadata": {},
   "source": [
    "Author: Melissa Lopez\n",
    "\n",
    "Email: m.lopez@uu.nl"
   ]
  },
  {
   "cell_type": "code",
   "execution_count": 1,
   "metadata": {
    "colab": {
     "base_uri": "https://localhost:8080/"
    },
    "id": "0NeSv96NLLDw",
    "outputId": "2c5a816d-0e6e-42ca-82eb-e7c2be870f8d"
   },
   "outputs": [
    {
     "ename": "ModuleNotFoundError",
     "evalue": "No module named 'pycbc'",
     "output_type": "error",
     "traceback": [
      "\u001b[1;31m---------------------------------------------------------------------------\u001b[0m",
      "\u001b[1;31mModuleNotFoundError\u001b[0m                       Traceback (most recent call last)",
      "Cell \u001b[1;32mIn[1], line 2\u001b[0m\n\u001b[0;32m      1\u001b[0m get_ipython()\u001b[38;5;241m.\u001b[39mrun_line_magic(\u001b[38;5;124m'\u001b[39m\u001b[38;5;124mmatplotlib\u001b[39m\u001b[38;5;124m'\u001b[39m, \u001b[38;5;124m'\u001b[39m\u001b[38;5;124minline\u001b[39m\u001b[38;5;124m'\u001b[39m)\n\u001b[1;32m----> 2\u001b[0m \u001b[38;5;28;01mfrom\u001b[39;00m \u001b[38;5;21;01mpycbc\u001b[39;00m\u001b[38;5;21;01m.\u001b[39;00m\u001b[38;5;21;01mcatalog\u001b[39;00m \u001b[38;5;28;01mimport\u001b[39;00m Merger\n\u001b[0;32m      3\u001b[0m \u001b[38;5;28;01mimport\u001b[39;00m \u001b[38;5;21;01mpycbc\u001b[39;00m\u001b[38;5;21;01m.\u001b[39;00m\u001b[38;5;21;01mpsd\u001b[39;00m\u001b[38;5;241m,\u001b[39m \u001b[38;5;21;01mpycbc\u001b[39;00m\u001b[38;5;21;01m.\u001b[39;00m\u001b[38;5;21;01mnoise\u001b[39;00m\n\u001b[0;32m      4\u001b[0m \u001b[38;5;28;01mimport\u001b[39;00m \u001b[38;5;21;01mpylab\u001b[39;00m\n",
      "\u001b[1;31mModuleNotFoundError\u001b[0m: No module named 'pycbc'"
     ]
    }
   ],
   "source": [
    "%matplotlib inline\n",
    "from pycbc.catalog import Merger\n",
    "import pycbc.psd, pycbc.noise\n",
    "import pylab\n",
    "import matplotlib.pyplot as plt\n",
    "import numpy as np\n",
    "from pycbc.waveform import get_td_waveform\n",
    "from pycbc.detector import Detector\n",
    "import random"
   ]
  },
  {
   "cell_type": "markdown",
   "metadata": {},
   "source": [
    "Previously, we have plotted the PSD of different detectors. Some PSDs are from previous runs (O3), while some others are the design sensitivity of future detectors.\n",
    "\n",
    "The PSD characterizes the noise of the detector, so we can generate detector noise accordingly."
   ]
  },
  {
   "cell_type": "markdown",
   "metadata": {},
   "source": [
    "**Exercise 1:** Load the `aligo_O4high.txt` PSD to [generate](https://pycbc.org/pycbc/latest/html/pycbc.noise.html#pycbc.noise.gaussian.noise_from_psd) some Gaussian data.\n",
    "\n",
    "_Hint:_ Minimum frequency is 10 Hz, sampling rate 4096 Hz and we want 20s of duration"
   ]
  },
  {
   "cell_type": "code",
   "execution_count": null,
   "metadata": {},
   "outputs": [],
   "source": [
    "# Load the PSD for the O4 sensitivity curve (LIGO)\n",
    "psd_o4 = pycbc.psd.read.from_txt(\"sensitivity_curves/aligo_O4high.txt\")\n",
    "\n",
    "# Set up parameters for the noise generation\n",
    "duration = 20  # duration in seconds\n",
    "sampling_rate = 4096  # sampling rate in Hz\n",
    "min_freq = 10  # minimum frequency in Hz\n",
    "\n",
    "# Generate Gaussian noise based on the PSD\n",
    "noise = pycbc.noise.gaussian.noise_from_psd(duration=duration, psd=psd_o4, sample_rate=sampling_rate, min_freq=min_freq)\n",
    "\n",
    "\n",
    "# Plot the generated noise\n",
    "plt.figure(figsize=(12, 6))\n",
    "plt.plot(noise.sample_times, noise)\n",
    "plt.title('Simulated Gaussian Noise (O4 Sensitivity)')\n",
    "plt.xlabel('Time [s]')\n",
    "plt.ylabel('Strain')\n",
    "plt.grid(True)\n",
    "plt.show()\n"
   ]
  },
  {
   "cell_type": "markdown",
   "metadata": {},
   "source": [
    "As you can see. the generated noise is \"coloured\" according to the detector noise. Now, we would like to add a simulated gravitational wave signal in our detector noise. \n",
    "\n",
    "**Exercise 2:** Using [this function](https://pycbc.org/pycbc/latest/html/pycbc.waveform.html#pycbc.waveform.waveform.get_td_waveform) to generate waveforms in time domain, provide the plus and cross polarization of a binary black hole merger of $m_{1} = m_{2} = 50$ at 2000 Mpc. Use the waveform approximant \"IMRPhenomD\". How does the waveform amplitude compare to the detector noise?\n",
    "\n",
    "The waveform comes from the source, but it needs to be projected in the detector. [Project](https://pycbc.org/pycbc/latest/html/pycbc.detector.html#pycbc.detector.ground.Detector.project_wave) the waveform on LIGO Livingston (L1) at random sky-location and polarization. You can specify your detector with [this](https://pycbc.org/pycbc/latest/html/pycbc.detector.html#pycbc.detector.ground.Detector) function. How does the waveform change because of this projection?\n",
    "\n",
    "_Hint:_ Right ascension range is $[0, 2\\pi]$, declination is $[-2\\pi, 2\\pi]$ and polarization is $[0, 2\\pi]$."
   ]
  },
  {
   "cell_type": "code",
   "execution_count": null,
   "metadata": {},
   "outputs": [],
   "source": [
    "# Parameters for the BBH waveform\n",
    "m1 = m2 = 50  # masses in solar masses\n",
    "distance = 2000  # distance in Mpc\n",
    "approximant = \"IMRPhenomD\"  # waveform approximant\n",
    "\n",
    "# Generate the waveform in the time domain\n",
    "hp, hc = get_td_waveform(approximant=approximant,\n",
    "                          mass1=m1, mass2=m2,\n",
    "                          distance=distance,\n",
    "                          f_lower=10,  # minimum frequency for the waveform\n",
    "                          delta_t=1/sampling_rate)  # time step corresponding to the sample rate\n",
    "\n",
    "# Plot the waveform\n",
    "plt.figure(figsize=(12, 6))\n",
    "plt.plot(hp.sample_times, hp, label=\"Plus polarization\")\n",
    "plt.plot(hc.sample_times, hc, label=\"Cross polarization\")\n",
    "plt.title('Binary Black Hole Merger Waveform')\n",
    "plt.xlabel('Time [s]')\n",
    "plt.ylabel('Strain')\n",
    "plt.legend()\n",
    "plt.grid(True)\n",
    "plt.show()\n",
    "\n",
    "# Initialize the LIGO Livingston detector\n",
    "detector = Detector('L1')\n",
    "\n",
    "# Random sky location (right ascension and declination) and polarization\n",
    "ra = random.uniform(0, 2 * np.pi)  # Right Ascension\n",
    "dec = random.uniform(-np.pi, np.pi)  # Declination\n",
    "polarization = random.uniform(0, 2 * np.pi)  # Polarization angle\n",
    "\n",
    "# Project the waveform onto the detector\n",
    "hp_proj, hc_proj = detector.project_wave(hp, hc, ra, dec, polarization)\n",
    "\n",
    "# Plot the projected waveform\n",
    "plt.figure(figsize=(12, 6))\n",
    "plt.plot(hp_proj.sample_times, hp_proj, label=\"Projected Plus polarization\")\n",
    "plt.plot(hc_proj.sample_times, hc_proj, label=\"Projected Cross polarization\")\n",
    "plt.title('Projected Binary Black Hole Merger Waveform on LIGO Livingston (L1)')\n",
    "plt.xlabel('Time [s]')\n",
    "plt.ylabel('Strain')\n",
    "plt.legend()\n",
    "plt.grid(True)\n",
    "plt.show()\n",
    "\n",
    "# Plot the noise along with the waveform\n",
    "plt.figure(figsize=(12, 6))\n",
    "plt.plot(noise.sample_times, noise, label=\"Simulated Detector Noise\", color='gray', alpha=0.7)\n",
    "plt.plot(hp_proj.sample_times, hp_proj, label=\"Projected Plus Polarization\", color='blue')\n",
    "plt.plot(hc_proj.sample_times, hc_proj, label=\"Projected Cross Polarization\", color='red')\n",
    "plt.title('Simulated Detector Noise with Projected BBH Waveform (L1)')\n",
    "plt.xlabel('Time [s]')\n",
    "plt.ylabel('Strain')\n",
    "plt.legend()\n",
    "plt.grid(True)\n",
    "plt.show()\n"
   ]
  },
  {
   "cell_type": "markdown",
   "metadata": {},
   "source": [
    "**Exercise 2:** From before our detector noise is 20s long. Add the GW into noise after 5s. We also need to get the first 4s to estimate the PSD in the next excercise. Make an overlaid plot with the total data, the portion of data where the GW is added and the data needed to estimate the PSD. \n",
    "\n",
    "_Bonus:_ Can you also plot the GW signal? \n"
   ]
  },
  {
   "cell_type": "code",
   "execution_count": null,
   "metadata": {},
   "outputs": [],
   "source": [
    "# Parameters for the BBH waveform\n",
    "m1 = m2 = 50  # masses in solar masses\n",
    "distance = 2000  # distance in Mpc\n",
    "approximant = \"IMRPhenomD\"  # waveform approximant\n",
    "\n",
    "# Generate the waveform in the time domain\n",
    "hp, hc = get_td_waveform(approximant=approximant,mass1=m1, mass2=m2,distance=distance,f_lower=10, delta_t=1/sampling_rate)\n",
    "# Simulate Gaussian noise from the PSD \n",
    "psd_o4 = pycbc.psd.read.from_txt(\"sensitivity_curves/aligo_O4high.txt\")\n",
    "duration = 20  # total duration in seconds\n",
    "sampling_rate = 4096  # sampling rate in Hz\n",
    "min_freq = 10  # minimum frequency in Hz\n",
    "noise = pycbc.noise.gaussian.noise_from_psd(duration=duration, psd=psd_o4, sample_rate=sampling_rate, min_freq=min_freq)\n",
    "\n",
    "# Add the waveform to the noise after 5 seconds\n",
    "gw_start_time = 5  # the GW signal starts at 5 seconds\n",
    "gw_end_time = gw_start_time + len(hp) / sampling_rate  # end time based on the waveform duration\n",
    "\n",
    "# Add the waveform to the noise after 5 seconds\n",
    "total_data = noise.copy()\n",
    "total_data[gw_start_time*sampling_rate : gw_end_time*sampling_rate] += hp\n",
    "\n",
    "# Extract the first 4 seconds of data for PSD estimation\n",
    "psd_data = noise[:4*sampling_rate]  # first 4 seconds of the noise\n",
    "\n",
    "# Plotting everything\n",
    "\n",
    "# Create the figure\n",
    "plt.figure(figsize=(12, 6))\n",
    "\n",
    "# Plot total data (noise + GW)\n",
    "plt.plot(total_data.sample_times, total_data, label=\"Total Data (Noise + GW)\", color='black')\n",
    "\n",
    "# Plot the portion with the GW added (after 5s)\n",
    "plt.plot(total_data.sample_times[gw_start_time*sampling_rate:], total_data[gw_start_time*sampling_rate:], label=\"GW Added After 5s\", color='blue', alpha=0.7)\n",
    "\n",
    "# Plot the data needed for PSD estimation (first 4s of noise)\n",
    "plt.plot(psd_data.sample_times, psd_data, label=\"First 4s (PSD Estimation)\", color='green', linestyle='--')\n",
    "\n",
    "# Title and labels\n",
    "plt.title(\"Simulated Detector Data: Noise + GW Signal\")\n",
    "plt.xlabel(\"Time [s]\")\n",
    "plt.ylabel(\"Strain\")\n",
    "plt.legend()\n",
    "plt.grid(True)\n",
    "plt.show()\n",
    "\n",
    "# Plot the GW signal separately (for visualization)\n",
    "plt.figure(figsize=(12, 6))\n",
    "plt.plot(hp.sample_times, hp, label=\"GW Signal (Plus Polarization)\")\n",
    "plt.plot(hc.sample_times, hc, label=\"GW Signal (Cross Polarization)\")\n",
    "plt.title(\"Gravitational Wave Signal (BBH Merger)\")\n",
    "plt.xlabel(\"Time [s]\")\n",
    "plt.ylabel(\"Strain\")\n",
    "plt.legend()\n",
    "plt.grid(True)\n",
    "plt.show()\n"
   ]
  },
  {
   "cell_type": "markdown",
   "metadata": {},
   "source": [
    "**Exercise 3:** In a proper search we do not really have the PSD handy. We want to estimate the PSD with Welch's method (see [here](https://ccrma.stanford.edu/~jos/sasp/Welch_s_Method.html) for details), but we want to use the 4s of the beginning where the GW is not present using [this function](https://pycbc.org/pycbc/latest/html/pycbc.psd.html#pycbc.psd.estimate.welch). Plot the estimated PSD. Note that before we used a dummy whitening, and this one is a bit better.\n",
    "\n",
    "What is the $\\Delta_f$ of the estimated PSD? What is $\\Delta_f$ of the data we want to whiten to see the GW signal?\n",
    "\n",
    "_Hint:_ `seg_stride (int)` is usually half of `seg_len`.\n"
   ]
  },
  {
   "cell_type": "code",
   "execution_count": null,
   "metadata": {},
   "outputs": [],
   "source": [
    "# Estimate the PSD using Welch's method for the first 4s of noise\n",
    "seg_len = 4 * sampling_rate  # segment length in samples (4 seconds)\n",
    "seg_stride = seg_len // 2  # usually half of seg_len\n",
    "\n",
    "# Use Welch's method to estimate the PSD\n",
    "estimated_psd = estimate.welch(psd_data, seg_len=seg_len, seg_stride=seg_stride)\n",
    "\n",
    "# Plot the estimated PSD\n",
    "plt.figure(figsize=(12, 6))\n",
    "plt.loglog(estimated_psd.frequencies, estimated_psd, label='Estimated PSD (Welch)', color='blue')\n",
    "plt.title('Estimated PSD using Welch\\'s Method')\n",
    "plt.xlabel('Frequency [Hz]')\n",
    "plt.ylabel('PSD [strain^2/Hz]')\n",
    "plt.grid(True)\n",
    "plt.legend()\n",
    "plt.show()\n",
    "\n",
    "# Calculate the frequency resolution for the estimated PSD\n",
    "delta_f_estimated = 1 / seg_len\n",
    "print(f\"Delta_f of the estimated PSD: {delta_f_estimated} Hz\")\n",
    "\n",
    "# Calculate the frequency resolution for the data used for whitening\n",
    "delta_f_data = 1 / len(noise)\n",
    "print(f\"Delta_f of the data used for whitening: {delta_f_data} Hz\")\n"
   ]
  },
  {
   "cell_type": "markdown",
   "metadata": {},
   "source": [
    "Now that we have the PSD we need to interpolate it to match our data and then limit the filter length of 1 / PSD. After this, we can directly use this PSD to filter the data. Since the data has been highpassed above 12 Hz, and will have low values below this we need to informat the function to not include frequencies below this frequency. \n",
    "\n",
    "**Exercise 4:** Use the functions [interpolate](https://pycbc.org/pycbc/latest/html/pycbc.psd.html#pycbc.psd.estimate.interpolate) and [inverse_spectrum_truncation](https://pycbc.org/pycbc/latest/html/pycbc.psd.html#pycbc.psd.estimate.inverse_spectrum_truncation) to achieve a proper formatting of the PSD.\n",
    "\n",
    "_Hint:_ `max_filter_len (int)` is $4 \\times$ sampling_rate. Note that the original PSD has a minimum frequency of 12Hz."
   ]
  },
  {
   "cell_type": "code",
   "execution_count": null,
   "metadata": {},
   "outputs": [],
   "source": [
    "# Interpolate the PSD to match the data's frequency resolution\n",
    "interpolated_psd = estimate.interpolate(estimated_psd, noise.sample_freq)\n",
    "\n",
    "# Set the maximum filter length (4 * sampling_rate as the hint suggests)\n",
    "max_filter_len = 4 * sampling_rate\n",
    "\n",
    "# Use inverse spectrum truncation to limit the filter length\n",
    "psd_filtered = estimate.inverse_spectrum_truncation(interpolated_psd, max_filter_len=max_filter_len)\n",
    "\n",
    "# Filter the data using the adjusted PSD\n",
    "whitened_data = total_data.whiten(psd=psd_filtered, low_frequency_cutoff=12)\n",
    "\n",
    "# Plot the original data, whitened data, and the PSD after interpolation and truncation\n",
    "plt.figure(figsize=(12, 6))\n",
    "\n",
    "# Plot the original data (Noise + GW)\n",
    "plt.plot(total_data.sample_times, total_data, label=\"Original Data (Noise + GW)\", color='black')\n",
    "\n",
    "# Plot the whitened data\n",
    "plt.plot(whitened_data.sample_times, whitened_data, label=\"Whitened Data\", color='red')\n",
    "\n",
    "# Plot the interpolated PSD for reference\n",
    "plt.loglog(interpolated_psd.frequencies, interpolated_psd, label=\"Interpolated PSD\", color='blue')\n",
    "\n",
    "plt.title(\"Filtered and Whitened Data vs Original Data\")\n",
    "plt.xlabel(\"Time [s]\")\n",
    "plt.ylabel(\"Strain\")\n",
    "plt.legend()\n",
    "plt.grid(True)\n",
    "plt.show()\n"
   ]
  },
  {
   "cell_type": "markdown",
   "metadata": {},
   "source": [
    "Now that the PSD is ready, we can whiten the data. Before we used a PyCBC function, but mathematically this is defined as\n",
    "\n",
    "\\begin{equation}\n",
    "\\tilde{d_w}(f) = \\tilde{d}(f)/S_{n}^{-1/2}(f)\n",
    "\\end{equation}\n",
    "where $\\tilde{d}$ and $\\tilde{d_w}(f)$ are the Fourier transform of the coloured data and whitened data, respectively.\n",
    "\n",
    "**Exercise 5:** Whiten the data using the interpolated PSD. Crop 5s at the beginning and the end to avoid border effects (_aliasing_) and bandpass it as in the previous exercise. Can you see the GW signal?"
   ]
  },
  {
   "cell_type": "code",
   "execution_count": null,
   "metadata": {},
   "outputs": [],
   "source": [
    "# Get the frequency domain representation of the original data\n",
    "data_f = total_data.to_frequencyseries()\n",
    "\n",
    "# Apply whitening: d_w(f) = d(f) / sqrt(Sn(f))\n",
    "whitened_f = data_f / np.sqrt(interpolated_psd)\n",
    "\n",
    "# Convert back to time domain\n",
    "whitened_data = whitened_f.to_timeseries()\n",
    "\n",
    "# Crop the data by 5s at the beginning and the end to avoid border effects\n",
    "start_time = 5  # 5 seconds at the beginning\n",
    "end_time = -5  # 5 seconds at the end\n",
    "cropped_data = whitened_data.crop(start_time=start_time, end_time=end_time)\n",
    "\n",
    "# Bandpass filter the data as done in previous exercises\n",
    "cropped_data = cropped_data.lowpass_fir(250, order=512)\n",
    "cropped_data = cropped_data.highpass_fir(30, order=512)\n",
    "\n",
    "# Plot the whitened and bandpassed data\n",
    "plt.figure(figsize=(12, 6))\n",
    "plt.plot(cropped_data.sample_times, cropped_data, label=\"Whitened and Bandpassed Data\")\n",
    "plt.title(\"Whitened and Bandpassed Data with GW Signal\")\n",
    "plt.xlabel(\"Time [s]\")\n",
    "plt.ylabel(\"Strain\")\n",
    "plt.grid(True)\n",
    "plt.legend()\n",
    "plt.show()\n"
   ]
  },
  {
   "cell_type": "markdown",
   "metadata": {},
   "source": [
    "So far, we buried a GW signal  $h(t)$ in stationary and Gaussian noise $n(t)$ with zero mean, such that $s(t) = h(t) + n(t)$. Given the optimal filter  $K(t)$, \n",
    "\n",
    "\\begin{equation}\n",
    "\\label{eq:filteredsignal}\n",
    "\\hat{s} = \\int_{-\\infty}^{\\infty}  K(t)s(t) dt = \\int_{-\\infty}^{\\infty} \\tilde{K}(f)^{*}\\tilde{s}(f) df, \\quad \\text{ where }  \\tilde{s}(f) = \\int_{-\\infty}^{\\infty} s(t)e^{-2 \\pi i ft}dt\n",
    "\\end{equation}\n",
    "where $\\hat{s}$ is the filtered value of $s(t)$, $^*$ represents the complex conjugate, and $\\tilde{\\cdot }\\ $ the Fourier transform. \n",
    "\n",
    "The detection statistic that is maximised by the optimal filter $K(t)$  will be the SNR, defined as $\\rho = S/N$. $S$ is the expected value of $\\hat{s}$ when $h(t) \\neq 0$, while $N$ is the squared root of the noise variance when $h(t) =0$. It can be demonstrated that the optimal filter $K(t)$ is the model of the GW signal itself, known as _template_.\n",
    "\n",
    "The fundamental modelled detection technique is called \"matched filtering\", since the filter function is chosen to \"match\" the signal we are looking for. We can write the SNR between an unknown time series $s(t)$ and the template $h_{m}$ as\n",
    "\n",
    "\\begin{equation}\n",
    "\\label{eq:wienerscalar}\n",
    "\\rho =  4 \\text{Re} \\int_{0}^{\\infty} \\frac{\\tilde{s}^{*}(f)}{S_{n}(f)} \\tilde{h_{m}}(f) df. \n",
    "\\end{equation}\n",
    "\n",
    "\n",
    "\n",
    "**Exercise 6:** Use the [matched_filter](https://pycbc.org/pycbc/latest/html/pycbc.filter.html#pycbc.filter.matchedfilter.matched_filter) function to filter the coloured data with the template. Crop the SNR time series 5s at each side and plot it together with the whitened data. Where is the GW signal? Note that the y-axis of the whitened data is _amplitude_ and the y-axis of the SNR timeseries is _SNR_.\n",
    "\n",
    "How much is the maximum of the absolute value of the SNR time series? If it is larger than 5 it will generate a \"trigger\" for further analysis. Will the trigger be generated?\n",
    "\n",
    "Note that the parameter space of GW signals is vast, so to find these signals, we will need to create a template bank and do this process for thousands of templates. Then, this becomes a high-performance computing problem!\n",
    "\n",
    "_Hint_: you need to [resize](https://pycbc.org/pycbc/latest/html/pycbc.types.html#pycbc.types.array.Array.resize) the template and use [cyclic_time_shift](https://pycbc.org/pycbc/latest/html/pycbc.types.html#pycbc.types.frequencyseries.FrequencySeries.cyclic_time_shift)"
   ]
  },
  {
   "cell_type": "code",
   "execution_count": null,
   "metadata": {},
   "outputs": [],
   "source": [
    "m1 = 50  # mass of the first black hole (in solar masses)\n",
    "m2 = 50  # mass of the second black hole (in solar masses)\n",
    "distance = 2000  # distance in Mpc\n",
    "\n",
    "# Generate the waveform using the \"IMRPhenomD\" approximant\n",
    "hp, hc = get_td_waveform(approximant=\"IMRPhenomD\", mass1=m1, mass2=m2, distance=distance)\n",
    "\n",
    "# Define the template for matched filtering\n",
    "template = hp\n",
    "\n",
    "# Perform matched filtering\n",
    "from pycbc.filter import matched_filter\n",
    "\n",
    "# Perform the matched filter with the whitened data\n",
    "snr_time_series = matched_filter(template, whitened_data)\n",
    "\n",
    "# Crop the SNR time series by 5s at each side\n",
    "cropped_snr = snr_time_series.crop(start_time=5, end_time=-5)\n",
    "\n",
    "# Plot the whitened data and the SNR time series\n",
    "plt.figure(figsize=(12, 6))\n",
    "\n",
    "# Plot the whitened data\n",
    "plt.subplot(2, 1, 1)\n",
    "plt.plot(whitened_data.sample_times, whitened_data, label=\"Whitened Data\", color='blue')\n",
    "plt.title(\"Whitened Data with GW Signal\")\n",
    "plt.xlabel(\"Time [s]\")\n",
    "plt.ylabel(\"Amplitude\")\n",
    "plt.grid(True)\n",
    "plt.legend()\n",
    "\n",
    "# Plot the SNR time series\n",
    "plt.subplot(2, 1, 2)\n",
    "plt.plot(cropped_snr.sample_times, cropped_snr, label=\"SNR\", color='red')\n",
    "plt.title(\"SNR Time Series\")\n",
    "plt.xlabel(\"Time [s]\")\n",
    "plt.ylabel(\"SNR\")\n",
    "plt.grid(True)\n",
    "plt.legend()\n",
    "\n",
    "plt.tight_layout()\n",
    "plt.show()\n",
    "\n",
    "# Find the maximum of the absolute value of the SNR time series\n",
    "max_snr = np.max(np.abs(cropped_snr))\n",
    "print(f\"Maximum SNR: {max_snr}\")\n",
    "\n",
    "# Determine if a trigger is generated (SNR > 5)\n",
    "trigger_generated = max_snr > 5\n",
    "print(f\"Trigger generated: {trigger_generated}\")\n"
   ]
  },
  {
   "cell_type": "markdown",
   "metadata": {
    "id": "wSYU6DFeFcpt"
   },
   "source": [
    "Good job arriving at the end of the tutorial! This was a small peak at GW data analysis that I hope you found interesting. \n",
    "\n",
    "There is a bonus track exercise if you are bored, but we can also have a chat about some more GW data analysis if you prefer. "
   ]
  },
  {
   "cell_type": "markdown",
   "metadata": {},
   "source": []
  }
 ],
 "metadata": {
  "colab": {
   "provenance": []
  },
  "kernelspec": {
   "display_name": "base",
   "language": "python",
   "name": "python3"
  },
  "language_info": {
   "codemirror_mode": {
    "name": "ipython",
    "version": 3
   },
   "file_extension": ".py",
   "mimetype": "text/x-python",
   "name": "python",
   "nbconvert_exporter": "python",
   "pygments_lexer": "ipython3",
   "version": "3.12.4"
  }
 },
 "nbformat": 4,
 "nbformat_minor": 4
}
