{
 "cells": [
  {
   "cell_type": "markdown",
   "metadata": {
    "id": "Oe9SQUuVgkEy",
    "tags": []
   },
   "source": [
    "### GW tutorial 2: Detector noise and GW150914"
   ]
  },
  {
   "cell_type": "markdown",
   "metadata": {},
   "source": [
    "Author: Melissa Lopez\n",
    "\n",
    "Email: m.lopez@uu.nl"
   ]
  },
  {
   "cell_type": "markdown",
   "metadata": {},
   "source": [
    "Note that we are importing some packages to be able to read the data."
   ]
  },
  {
   "cell_type": "code",
   "execution_count": null,
   "metadata": {
    "colab": {
     "base_uri": "https://localhost:8080/"
    },
    "id": "0NeSv96NLLDw",
    "outputId": "2c5a816d-0e6e-42ca-82eb-e7c2be870f8d"
   },
   "outputs": [],
   "source": [
    "%matplotlib inline\n",
    "from pycbc.catalog import Merger\n",
    "import pycbc.psd\n",
    "import pylab\n",
    "import matplotlib.pyplot as plt\n",
    "import numpy as np"
   ]
  },
  {
   "cell_type": "markdown",
   "metadata": {},
   "source": [
    "In the previous part we have seen the detector response to gravitational waves (GW). Currently, we have three ground-based detectors: LIGO Hanford (H1), LIGO Livingston (L1) and Virgo (V1). But what does the data actually look like?\n",
    "\n",
    "To answer this question we are going to take a look at the first detection: **GW150914**. Let's load the data from L1"
   ]
  },
  {
   "cell_type": "code",
   "execution_count": null,
   "metadata": {},
   "outputs": [],
   "source": [
    "m = Merger('GW150914')\n",
    "ifo = 'L1'\n",
    "data = m.strain(ifo)"
   ]
  },
  {
   "cell_type": "markdown",
   "metadata": {},
   "source": [
    "**Exercise 1:** We can see that this object is a PyCBC timeseries, and as such you can check what their atributes are (see [here](https://pycbc.org/pycbc/latest/html/pycbc.types.html#module-pycbc.types.timeseries)). Let's check some of them. \n",
    "\n",
    "- How much is the duration of the time series?\n",
    "\n",
    "- How much is its sampling rate?\n",
    "\n",
    "- How many data points does it have?\n",
    "\n",
    "- How much is $\\Delta_{f}$ and $\\Delta_{t}$? Can you find a relation between these and the number of data points?"
   ]
  },
  {
   "cell_type": "markdown",
   "metadata": {},
   "source": [
    "_Hint:_ $\\Delta_{f} = 1/duration$ and  $\\Delta_{t} = 1/sample\\_rate$"
   ]
  },
  {
   "cell_type": "code",
   "execution_count": null,
   "metadata": {},
   "outputs": [],
   "source": [
    "# Duration of the time series\n",
    "duration = data.duration\n",
    "print(f\"Duration of the time series: {duration} seconds\")\n",
    "\n",
    "# Sampling rate\n",
    "sample_rate = data.sample_rate\n",
    "print(f\"Sampling rate: {sample_rate} Hz\")\n",
    "\n",
    "# Time resolution\n",
    "delta_t = 1 / sample_rate\n",
    "print(f\"Time resolution (Delta_t): {delta_t} seconds\")\n",
    "\n",
    "# Frequency resolution\n",
    "delta_f = 1 / duration\n",
    "print(f\"Frequency resolution (Delta_f): {delta_f} Hz\")\n",
    "\n",
    "# Number of data points\n",
    "num_points = len(data)\n",
    "print(f\"Number of data points: {num_points}\")\n",
    "\n",
    "# Verifying the relation between num_points, delta_t, and duration\n",
    "calculated_num_points = duration / delta_t\n",
    "print(f\"Calculated number of points (duration / Delta_t): {calculated_num_points}\")\n"
   ]
  },
  {
   "cell_type": "markdown",
   "metadata": {},
   "source": [
    "The previous magnitudes are key parameters of the timeseries. Now, let's plot the actual data to see what it looks like."
   ]
  },
  {
   "cell_type": "code",
   "execution_count": null,
   "metadata": {},
   "outputs": [],
   "source": [
    "plt.plot(data.sample_times, data, label='Raw L1 data', color='cornflowerblue')\n",
    "plt.xlabel('GPS time (s)')\n",
    "plt.ylabel('Amplitude (dimensionless)')\n",
    "plt.legend()"
   ]
  },
  {
   "cell_type": "markdown",
   "metadata": {},
   "source": [
    "In GW we use the GPS time to determine at what time the GW signals reached Earth. You can see that the amplitude of this data is super small, $\\mathcal{O}(10^{-18})$! GW interferometers are able to detect a change in distance of ~1/10,000th the size of a proton. \n",
    "\n",
    "But, where is GW190514? We cannot see it (yet) as there are many different contributions from the detector. The detector has a given \"noise budget\" given  by the power spectral density (PSD), $S_{n}(f)$, according to its specific design. \n",
    "\n",
    "**Exercise 2**: Estimate the PSD of the data using `filter_psd` (see [here](https://pycbc.org/pycbc/latest/html/pycbc.types.html#pycbc.types.timeseries.TimeSeries.filter_psd)) and plot it. Limit your plot according to the minimum frequency (say, 1 Hz) and  the Nyquist frequency. "
   ]
  },
  {
   "cell_type": "markdown",
   "metadata": {},
   "source": [
    "_Hint_: Note that the PSD is a frequency series."
   ]
  },
  {
   "cell_type": "code",
   "execution_count": null,
   "metadata": {},
   "outputs": [],
   "source": [
    "# Estimate the PSD of the data using the filter_psd method\n",
    "psd = data.filter_psd(segment='All', window='hann', samples=4, method='median')\n",
    "\n",
    "# Define frequency range for plotting (1 Hz to Nyquist frequency)\n",
    "min_freq = 1.0  # Minimum frequency (1 Hz)\n",
    "nyquist_freq = data.sample_rate / 2\n",
    "\n",
    "# Plot the PSD\n",
    "plt.figure(figsize=(10, 6))\n",
    "plt.loglog(psd.sample_frequencies, psd)\n",
    "plt.xlim(min_freq, nyquist_freq)\n",
    "plt.xlabel('Frequency [Hz]')\n",
    "plt.ylabel('Power Spectral Density [1/Hz]')\n",
    "plt.title('Power Spectral Density of GW150914 (LIGO Livingston)')\n",
    "plt.grid(True)\n",
    "plt.show()"
   ]
  },
  {
   "cell_type": "markdown",
   "metadata": {},
   "source": [
    "The PSD shows us what are the different contributions of the detector noise.\n",
    "While we computed the PSD from 1 Hz, you can see that there is a weird behaviour for frequencies < 5 Hz. This is because the detector is not calibrated at these frequencies, so our analysis needs to start at higher frequencies. For current ground based detectors, we usually start at 10 Hz or higher, depending on the source.\n",
    "\n",
    "GW signals are tiny, so with this much noise we won't be able to see GW150914. To \"flatten\" all frequency contributions we whiten the data.\n",
    "\n",
    "**Exercise 3:** We can whiten the data with [this](https://pycbc.org/pycbc/latest/html/pycbc.types.html#pycbc.types.timeseries.TimeSeries.whiten) function. Use `segment_duration = 4` and `max_filter_duration=4`. \n",
    "\n",
    "- Plot the whitened data next to the raw detector noise. What differences can you see?\n",
    "\n",
    "- Estimate the PSD of the whitened data. Plot it in the same graph as the raw PSD. What differences can you see?\n"
   ]
  },
  {
   "cell_type": "code",
   "execution_count": null,
   "metadata": {},
   "outputs": [],
   "source": [
    "# Whiten the data with segment_duration and max_filter_duration\n",
    "whitened_data = data.whiten(segment_duration=4, max_filter_duration=4)\n",
    "\n",
    "# Plot the raw data and the whitened data\n",
    "plt.figure(figsize=(12, 6))\n",
    "plt.subplot(2, 1, 1)\n",
    "plt.plot(data.sample_times, data, label=\"Raw Data\", color=\"blue\")\n",
    "plt.plot(whitened_data.sample_times, whitened_data, label=\"Whitened Data\", color=\"red\", alpha=0.7)\n",
    "plt.xlabel('Time [s]')\n",
    "plt.ylabel('Strain')\n",
    "plt.title('Raw vs Whitened Data (GW150914)')\n",
    "plt.legend()\n",
    "plt.grid(True)\n",
    "\n",
    "# Estimate and plot the PSD of the raw data\n",
    "psd_raw = data.filter_psd(segment='All', window='hann', samples=4, method='median')\n",
    "\n",
    "# Estimate and plot the PSD of the whitened data\n",
    "psd_whitened = whitened_data.filter_psd(segment='All', window='hann', samples=4, method='median')\n",
    "\n",
    "# Plot the PSDs\n",
    "plt.subplot(2, 1, 2)\n",
    "plt.loglog(psd_raw.sample_frequencies, psd_raw, label=\"Raw PSD\", color=\"blue\")\n",
    "plt.loglog(psd_whitened.sample_frequencies, psd_whitened, label=\"Whitened PSD\", color=\"red\", alpha=0.7)\n",
    "plt.xlim(10, nyquist_freq)\n",
    "plt.xlabel('Frequency [Hz]')\n",
    "plt.ylabel('Power Spectral Density [1/Hz]')\n",
    "plt.title('Raw vs Whitened PSD')\n",
    "plt.legend()\n",
    "plt.grid(True)\n",
    "\n",
    "plt.tight_layout()\n",
    "plt.show()"
   ]
  },
  {
   "cell_type": "markdown",
   "metadata": {},
   "source": [
    "Now all frequency contributions are at the same level, as we can see from the PSD. However, GW150914 is still hidden in the data. \n",
    "\n",
    "\n",
    "**Exercise 4:** We can apply a [low pass filter](https://pycbc.org/pycbc/latest/html/pycbc.types.html#pycbc.types.timeseries.TimeSeries.lowpass_fir) and a [high pass filter](https://pycbc.org/pycbc/latest/html/pycbc.types.html#pycbc.types.timeseries.TimeSeries.highpass_fir) to limit the frequency of the data. The low pass filters above 250 Hz (order=512) and the high pass filters below 30 Hz (order=512).\n",
    "\n",
    "- Estimate the PSD of the bandpassed data and plot it together with the raw PSD and the whitened PSD. What is the bandpass doing?\n",
    "\n",
    "- Plot the bandpassed data [cropping](https://pycbc.org/pycbc/latest/html/pycbc.types.html#pycbc.types.timeseries.TimeSeries.crop) 12s on the left and 13s on the right. What can you see? Compare this to the raw data. What frequencies dominate in each case?"
   ]
  },
  {
   "cell_type": "code",
   "execution_count": null,
   "metadata": {},
   "outputs": [],
   "source": [
    "# Apply the high pass filter below 30 Hz and low pass filter above 250 Hz\n",
    "bandpassed_data = data.highpass_fir(30, order=512).lowpass_fir(250, order=512)\n",
    "\n",
    "# Estimate the PSD of the bandpassed data\n",
    "psd_bandpassed = bandpassed_data.filter_psd(segment='All', window='hann', samples=4, method='median')\n",
    "\n",
    "# Plot the raw, whitened, and bandpassed PSDs\n",
    "plt.figure(figsize=(12, 6))\n",
    "\n",
    "plt.loglog(psd_raw.sample_frequencies, psd_raw, label=\"Raw PSD\", color=\"blue\")\n",
    "plt.loglog(psd_whitened.sample_frequencies, psd_whitened, label=\"Whitened PSD\", color=\"red\", alpha=0.7)\n",
    "plt.loglog(psd_bandpassed.sample_frequencies, psd_bandpassed, label=\"Bandpassed PSD\", color=\"green\", alpha=0.7)\n",
    "\n",
    "plt.xlim(10, nyquist_freq)\n",
    "plt.xlabel('Frequency [Hz]')\n",
    "plt.ylabel('Power Spectral Density [1/Hz]')\n",
    "plt.title('PSD of Raw, Whitened, and Bandpassed Data')\n",
    "plt.legend()\n",
    "plt.grid(True)\n",
    "\n",
    "plt.show()\n",
    "\n",
    "# Crop 12 seconds from the left and 13 seconds from the right of the bandpassed data\n",
    "cropped_bandpassed_data = bandpassed_data.crop(start=12, end=-13)\n",
    "\n",
    "# Plot the raw and bandpassed (cropped) data\n",
    "plt.figure(figsize=(12, 6))\n",
    "\n",
    "plt.plot(data.sample_times, data, label=\"Raw Data\", color=\"blue\", alpha=0.7)\n",
    "plt.plot(cropped_bandpassed_data.sample_times, cropped_bandpassed_data, label=\"Bandpassed Data (Cropped)\", color=\"green\", alpha=0.7)\n",
    "\n",
    "plt.xlabel('Time [s]')\n",
    "plt.ylabel('Strain')\n",
    "plt.title('Raw vs Bandpassed (Cropped) Data')\n",
    "plt.legend()\n",
    "plt.grid(True)\n",
    "\n",
    "plt.show()\n"
   ]
  },
  {
   "cell_type": "markdown",
   "metadata": {},
   "source": [
    "**Exercise 5:** Last but not least, we generate a spectrogram (time-frequency representation) using [this](https://pycbc.org/pycbc/latest/html/pycbc.types.html#pycbc.types.timeseries.TimeSeries.qtransform) function.\n",
    "\n",
    "_Hint_: logfsteps=200, qrange=(110, 110), frange=(20, 512), vmax=3.5 as it is standard"
   ]
  },
  {
   "cell_type": "code",
   "execution_count": null,
   "metadata": {},
   "outputs": [],
   "source": [
    "# Generate the spectrogram (time-frequency representation) using qtransform\n",
    "spectrogram = data.qtransform(logfsteps=200, qrange=(110, 110), frange=(20, 512), vmax=3.5)\n",
    "\n",
    "# Plottng\n",
    "plt.figure(figsize=(12, 6))\n",
    "spectrogram.plot()\n",
    "plt.title('Spectrogram of GW150914 (LIGO Livingston)')\n",
    "plt.xlabel('Time [s]')\n",
    "plt.ylabel('Frequency [Hz]')\n",
    "plt.show()\n"
   ]
  },
  {
   "cell_type": "markdown",
   "metadata": {
    "id": "926l2hVPiLsf"
   },
   "source": [
    "As we have seen, the detector has a given \"noise budget\" given  by the power spectral density (PSD), $S_{n}(f)$, according to its specific design. Let's see how the detectors will improve in the next observing runs.\n",
    "\n",
    "**Bonus track:** From the `sensitivity_curves` folder [load](https://pycbc.org/pycbc/latest/html/pycbc.psd.html#pycbc.psd.read.from_txt) the PSD s:\n",
    "\n",
    "- Third observing run of H1: `aligo_O3actual_H1.txt`\n",
    "- Third observing run of L1: `aligo_O3actual_L1.txt`\n",
    "- Third observing run of V1: `avirgo_O3actual.txt`\n",
    "- Simulated fourth observing run of LIGO: `aligo_O4high.txt`\n",
    "\n",
    "Note that these PSDs are from [LIGO public website](https://dcc.ligo.org/ligo-t2000012/public). Also read the PSD of [Einstein Telescope](https://pycbc.org/pycbc/latest/html/pycbc.psd.html#pycbc.psd.analytical.EinsteinTelescopeP1600143) (ET) and [Cosmic Explorer](https://pycbc.org/pycbc/latest/html/pycbc.psd.html#pycbc.psd.analytical.CosmicExplorerP1600143) (CE)\n",
    "\n",
    "Plot all these PSDs. What can you say about ET and CE improvements?\n",
    "\n",
    "_Hint_: Minimum frequency is 10 Hz, sampling rate 8192 Hz and duration is 16s.\n"
   ]
  },
  {
   "cell_type": "code",
   "execution_count": null,
   "metadata": {
    "id": "_1cZ_M6HL73u"
   },
   "outputs": [],
   "source": [
    "# Load the PSDs for each detector and observing run\n",
    "psd_h1 = psd.read.from_txt(\"sensitivity_curves/aligo_O3actual_H1.txt\")\n",
    "psd_l1 = psd.read.from_txt(\"sensitivity_curves/aligo_O3actual_L1.txt\")\n",
    "psd_v1 = psd.read.from_txt(\"sensitivity_curves/avirgo_O3actual.txt\")\n",
    "psd_o4 = psd.read.from_txt(\"sensitivity_curves/aligo_O4high.txt\")\n",
    "\n",
    "# Load the PSDs for Einstein Telescope (ET) and Cosmic Explorer (CE)\n",
    "psd_et = psd.analytical.EinsteinTelescopeP1600143()\n",
    "psd_ce = psd.analytical.CosmicExplorerP1600143()\n",
    "\n",
    "# Define frequency range and plot settings\n",
    "min_freq = 10  # Minimum frequency in Hz\n",
    "sampling_rate = 8192  # Sampling rate in Hz\n",
    "duration = 16  # Duration in seconds\n",
    "nyquist_freq = sampling_rate / 2  # Nyquist frequency\n",
    "\n",
    "# Plot all the PSDs\n",
    "plt.figure(figsize=(12, 6))\n",
    "\n",
    "# LIGO (H1, L1, V1)\n",
    "plt.loglog(psd_h1.sample_frequencies, psd_h1, label=\"H1 - O3\", color=\"blue\")\n",
    "plt.loglog(psd_l1.sample_frequencies, psd_l1, label=\"L1 - O3\", color=\"red\")\n",
    "plt.loglog(psd_v1.sample_frequencies, psd_v1, label=\"V1 - O3\", color=\"green\")\n",
    "\n",
    "# simulated fourth observing run of LIGO\n",
    "plt.loglog(psd_o4.sample_frequencies, psd_o4, label=\"LIGO - O4\", color=\"purple\")\n",
    "\n",
    "# Plot the PSDs for Einstein Telescope and Cosmic Explorer\n",
    "plt.loglog(psd_et.sample_frequencies, psd_et, label=\"Einstein Telescope (ET)\", color=\"orange\")\n",
    "plt.loglog(psd_ce.sample_frequencies, psd_ce, label=\"Cosmic Explorer (CE)\", color=\"brown\")\n",
    "\n",
    "# Set plot limits and labels\n",
    "plt.xlim(min_freq, nyquist_freq)\n",
    "plt.xlabel('Frequency [Hz]')\n",
    "plt.ylabel('Power Spectral Density [1/Hz]')\n",
    "plt.title('Comparison of PSDs for Different Detectors and Observing Runs')\n",
    "plt.legend(loc=\"lower left\")\n",
    "plt.grid(True)\n",
    "\n",
    "plt.show()\n"
   ]
  },
  {
   "cell_type": "markdown",
   "metadata": {
    "id": "wSYU6DFeFcpt"
   },
   "source": [
    "Good job! This is the end of the second part. Maybe you can go for a break?"
   ]
  },
  {
   "cell_type": "code",
   "execution_count": null,
   "metadata": {},
   "outputs": [],
   "source": []
  }
 ],
 "metadata": {
  "colab": {
   "provenance": []
  },
  "kernelspec": {
   "display_name": "base",
   "language": "python",
   "name": "python3"
  },
  "language_info": {
   "codemirror_mode": {
    "name": "ipython",
    "version": 3
   },
   "file_extension": ".py",
   "mimetype": "text/x-python",
   "name": "python",
   "nbconvert_exporter": "python",
   "pygments_lexer": "ipython3",
   "version": "3.12.4"
  }
 },
 "nbformat": 4,
 "nbformat_minor": 4
}
